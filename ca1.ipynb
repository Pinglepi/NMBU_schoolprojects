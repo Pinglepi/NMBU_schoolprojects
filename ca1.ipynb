{
 "cells": [
  {
   "cell_type": "markdown",
   "metadata": {},
   "source": [
    "# CA1 - Kaplan-Meier survival curves\n",
    "August Noer Steinset\n"
   ]
  },
  {
   "cell_type": "code",
   "execution_count": 1,
   "metadata": {},
   "outputs": [],
   "source": [
    "import pandas as pd\n",
    "import numpy as np\n",
    "import matplotlib.pyplot as plt\n",
    "from sksurv.nonparametric import kaplan_meier_estimator"
   ]
  },
  {
   "cell_type": "code",
   "execution_count": 2,
   "metadata": {},
   "outputs": [],
   "source": [
    "treatment_list = [1,5,6,6,9,10,10,10,12,12,12,12,12,13,15,16,20,24,24,27,32,34,36,36,44]\n",
    "treatment_event = [0,0,1,1,0,1,1,0,1,1,1,1,0,0,0,0,0,1,0,0,1,0,0,0,0]\n",
    "\n",
    "control_list = [3,6,6,6,6,8,8,12,12,12,15,16,18,18,20,22,24,28,28,28,30,30,33,42]\n",
    "control_event = [0,1,1,1,1,1,1,1,1,0,0,0,0,0,1,0,1,0,0,0,1,0,0,1]"
   ]
  },
  {
   "cell_type": "markdown",
   "metadata": {},
   "source": [
    "## Task 1"
   ]
  },
  {
   "cell_type": "code",
   "execution_count": 3,
   "metadata": {},
   "outputs": [
    {
     "name": "stdout",
     "output_type": "stream",
     "text": [
      "treatment_mean: 17.52\n",
      "control_mean: 17.958333333333332\n"
     ]
    }
   ],
   "source": [
    "# average survival time for the two groups\n",
    "treatment_mean = np.mean(treatment_list)\n",
    "control_mean = np.mean(control_list)\n",
    "print('treatment_mean:', treatment_mean)\n",
    "print('control_mean:', control_mean)"
   ]
  },
  {
   "cell_type": "code",
   "execution_count": 4,
   "metadata": {},
   "outputs": [
    {
     "name": "stdout",
     "output_type": "stream",
     "text": [
      "treatment_hazard_ratio: 0.0228310502283105\n",
      "control_hazard_ratio: 0.027842227378190254\n"
     ]
    }
   ],
   "source": [
    "# avergage hazard for the two groups\n",
    "treatment_hazard_ratio = sum(treatment_event)/sum(treatment_list)\n",
    "control_hazard_ratio = sum(control_event)/sum(control_list)\n",
    "print('treatment_hazard_ratio:', treatment_hazard_ratio)\n",
    "print('control_hazard_ratio:', control_hazard_ratio)"
   ]
  },
  {
   "cell_type": "code",
   "execution_count": 5,
   "metadata": {},
   "outputs": [
    {
     "name": "stdout",
     "output_type": "stream",
     "text": [
      "hazard_ratio: 0.8200152207001522\n"
     ]
    }
   ],
   "source": [
    "# average hazard ratio for the two groups\n",
    "hazard_ratio = treatment_hazard_ratio/control_hazard_ratio\n",
    "print('hazard_ratio:', hazard_ratio)"
   ]
  },
  {
   "cell_type": "markdown",
   "metadata": {},
   "source": [
    "While the average survival time of the treatment group is worse, we can see from the other numbers that this might be mostly because of the censoring. The treatment group in general experiences less hazard than the controll group."
   ]
  },
  {
   "cell_type": "markdown",
   "metadata": {},
   "source": [
    "## Task 2"
   ]
  },
  {
   "cell_type": "markdown",
   "metadata": {},
   "source": [
    "Ignoring the merging of time rows into one another if the event does not occure. This makes a larger table, but the maths stays the same as we only see a change in survival probability once an event happens."
   ]
  },
  {
   "cell_type": "code",
   "execution_count": 6,
   "metadata": {},
   "outputs": [
    {
     "data": {
      "text/html": [
       "<div>\n",
       "<style scoped>\n",
       "    .dataframe tbody tr th:only-of-type {\n",
       "        vertical-align: middle;\n",
       "    }\n",
       "\n",
       "    .dataframe tbody tr th {\n",
       "        vertical-align: top;\n",
       "    }\n",
       "\n",
       "    .dataframe thead th {\n",
       "        text-align: right;\n",
       "    }\n",
       "</style>\n",
       "<table border=\"1\" class=\"dataframe\">\n",
       "  <thead>\n",
       "    <tr style=\"text-align: right;\">\n",
       "      <th></th>\n",
       "      <th>t</th>\n",
       "      <th>m</th>\n",
       "      <th>q</th>\n",
       "      <th>n</th>\n",
       "    </tr>\n",
       "  </thead>\n",
       "  <tbody>\n",
       "    <tr>\n",
       "      <th>0</th>\n",
       "      <td>1</td>\n",
       "      <td>0</td>\n",
       "      <td>1</td>\n",
       "      <td>25</td>\n",
       "    </tr>\n",
       "    <tr>\n",
       "      <th>1</th>\n",
       "      <td>5</td>\n",
       "      <td>0</td>\n",
       "      <td>1</td>\n",
       "      <td>24</td>\n",
       "    </tr>\n",
       "    <tr>\n",
       "      <th>2</th>\n",
       "      <td>6</td>\n",
       "      <td>2</td>\n",
       "      <td>0</td>\n",
       "      <td>23</td>\n",
       "    </tr>\n",
       "    <tr>\n",
       "      <th>3</th>\n",
       "      <td>9</td>\n",
       "      <td>0</td>\n",
       "      <td>1</td>\n",
       "      <td>21</td>\n",
       "    </tr>\n",
       "    <tr>\n",
       "      <th>4</th>\n",
       "      <td>10</td>\n",
       "      <td>2</td>\n",
       "      <td>1</td>\n",
       "      <td>20</td>\n",
       "    </tr>\n",
       "    <tr>\n",
       "      <th>5</th>\n",
       "      <td>12</td>\n",
       "      <td>4</td>\n",
       "      <td>1</td>\n",
       "      <td>17</td>\n",
       "    </tr>\n",
       "    <tr>\n",
       "      <th>6</th>\n",
       "      <td>13</td>\n",
       "      <td>0</td>\n",
       "      <td>1</td>\n",
       "      <td>12</td>\n",
       "    </tr>\n",
       "    <tr>\n",
       "      <th>7</th>\n",
       "      <td>15</td>\n",
       "      <td>0</td>\n",
       "      <td>1</td>\n",
       "      <td>11</td>\n",
       "    </tr>\n",
       "    <tr>\n",
       "      <th>8</th>\n",
       "      <td>16</td>\n",
       "      <td>0</td>\n",
       "      <td>1</td>\n",
       "      <td>10</td>\n",
       "    </tr>\n",
       "    <tr>\n",
       "      <th>9</th>\n",
       "      <td>20</td>\n",
       "      <td>0</td>\n",
       "      <td>1</td>\n",
       "      <td>9</td>\n",
       "    </tr>\n",
       "    <tr>\n",
       "      <th>10</th>\n",
       "      <td>24</td>\n",
       "      <td>1</td>\n",
       "      <td>1</td>\n",
       "      <td>8</td>\n",
       "    </tr>\n",
       "    <tr>\n",
       "      <th>11</th>\n",
       "      <td>27</td>\n",
       "      <td>0</td>\n",
       "      <td>1</td>\n",
       "      <td>6</td>\n",
       "    </tr>\n",
       "    <tr>\n",
       "      <th>12</th>\n",
       "      <td>32</td>\n",
       "      <td>1</td>\n",
       "      <td>0</td>\n",
       "      <td>5</td>\n",
       "    </tr>\n",
       "    <tr>\n",
       "      <th>13</th>\n",
       "      <td>34</td>\n",
       "      <td>0</td>\n",
       "      <td>1</td>\n",
       "      <td>4</td>\n",
       "    </tr>\n",
       "    <tr>\n",
       "      <th>14</th>\n",
       "      <td>36</td>\n",
       "      <td>0</td>\n",
       "      <td>2</td>\n",
       "      <td>3</td>\n",
       "    </tr>\n",
       "    <tr>\n",
       "      <th>15</th>\n",
       "      <td>44</td>\n",
       "      <td>0</td>\n",
       "      <td>1</td>\n",
       "      <td>1</td>\n",
       "    </tr>\n",
       "  </tbody>\n",
       "</table>\n",
       "</div>"
      ],
      "text/plain": [
       "     t  m  q   n\n",
       "0    1  0  1  25\n",
       "1    5  0  1  24\n",
       "2    6  2  0  23\n",
       "3    9  0  1  21\n",
       "4   10  2  1  20\n",
       "5   12  4  1  17\n",
       "6   13  0  1  12\n",
       "7   15  0  1  11\n",
       "8   16  0  1  10\n",
       "9   20  0  1   9\n",
       "10  24  1  1   8\n",
       "11  27  0  1   6\n",
       "12  32  1  0   5\n",
       "13  34  0  1   4\n",
       "14  36  0  2   3\n",
       "15  44  0  1   1"
      ]
     },
     "execution_count": 6,
     "metadata": {},
     "output_type": "execute_result"
    }
   ],
   "source": [
    "# Function for generating the Kaplan-Meier table.\n",
    "def create_event_table(time_list, event_list):\n",
    "    df = pd.DataFrame({\n",
    "        't': time_list,\n",
    "        'event': event_list\n",
    "    }).sort_values(by='t')\n",
    "    \n",
    "    times = df['t'].unique()\n",
    "    at_risk = len(df)\n",
    "    event_table = []\n",
    "    \n",
    "    for t in times:\n",
    "        observed = df[df['t'] == t]['event'].sum()\n",
    "        censored = len(df[df['t'] == t]) - observed\n",
    "        event_table.append((t, observed, censored, at_risk))\n",
    "        at_risk -= censored\n",
    "        at_risk -= observed\n",
    "        \n",
    "    \n",
    "    return pd.DataFrame(event_table, columns=['t', 'm', 'q', 'n'])\n",
    "\n",
    "# Create event tables\n",
    "treatment_table = create_event_table(treatment_list, treatment_event)\n",
    "control_table = create_event_table(control_list, control_event)\n",
    "\n",
    "treatment_table"
   ]
  },
  {
   "cell_type": "code",
   "execution_count": 7,
   "metadata": {},
   "outputs": [
    {
     "name": "stdout",
     "output_type": "stream",
     "text": [
      "treatment_times: [0, 1, 5, 6, 9, 10, 12, 13, 15, 16, 20, 24, 27, 32, 34, 36, 44]\n",
      "treatment_probs: [1, 1.0, 1.0, 0.9130434782608696, 0.9130434782608696, 0.8217391304347826, 0.628388746803069, 0.628388746803069, 0.628388746803069, 0.628388746803069, 0.628388746803069, 0.5498401534526853, 0.5498401534526853, 0.43987212276214827, 0.43987212276214827, 0.43987212276214827, 0.43987212276214827]\n"
     ]
    }
   ],
   "source": [
    "def compute_km(event_table):\n",
    "    times = [0]\n",
    "    probabilities = [1]\n",
    "    \n",
    "    for _, row in event_table.iterrows():\n",
    "        t = row['t']\n",
    "        prob = (1 - (row['m'] / row['n']))\n",
    "        S_t = probabilities[-1] * prob\n",
    "        probabilities.append(S_t)\n",
    "        times.append(t)\n",
    "    \n",
    "    return times, probabilities\n",
    "\n",
    "# Compute KM probabilities\n",
    "treatment_times, treatment_probs = compute_km(treatment_table)\n",
    "control_times, control_probs = compute_km(control_table)\n",
    "\n",
    "print('treatment_times:', treatment_times)\n",
    "print('treatment_probs:', treatment_probs)"
   ]
  },
  {
   "cell_type": "markdown",
   "metadata": {},
   "source": [
    "## Task 3"
   ]
  },
  {
   "cell_type": "code",
   "execution_count": 8,
   "metadata": {},
   "outputs": [
    {
     "data": {
      "image/png": "[encoded data removed]",
      "text/plain": [
       "<Figure size 1000x600 with 1 Axes>"
      ]
     },
     "metadata": {},
     "output_type": "display_data"
    }
   ],
   "source": [
    "def plot_censoring_points(event_table, times, probabilities, color):\n",
    "    \"\"\"Plots + signs at the points of censoring.\"\"\"\n",
    "    for _, row in event_table.iterrows():\n",
    "        if row['q'] > 0:\n",
    "            # get the survival probability just before this time point\n",
    "            idx = next((i for i, time in enumerate(times) if time > row['t']), None)\n",
    "            if idx is not None:\n",
    "                plt.scatter(row['t'], probabilities[idx-1], color=color, marker='+', s=60, linewidth=1.5)\n",
    "\n",
    "# Plotting\n",
    "plt.figure(figsize=(10, 6))\n",
    "\n",
    "# KM Curves\n",
    "plt.step(treatment_times, treatment_probs, where='post', color='blue', label='Treatment')\n",
    "plt.step(control_times, control_probs, where='post', color='red', label='Control')\n",
    "\n",
    "# Plotting censoring points\n",
    "plot_censoring_points(treatment_table, treatment_times, treatment_probs, 'blue')\n",
    "plot_censoring_points(control_table, control_times, control_probs, 'red')\n",
    "\n",
    "# Other plotting details\n",
    "plt.title('Kaplan-Meier Survival Curves')\n",
    "plt.xlabel('Time')\n",
    "plt.ylabel('Survival Probability')\n",
    "plt.grid(True, linestyle='--', alpha=0.6)\n",
    "plt.legend()\n",
    "plt.ylim(0, 1.05)\n",
    "plt.tight_layout()\n",
    "plt.show()"
   ]
  },
  {
   "cell_type": "code",
   "execution_count": 9,
   "metadata": {},
   "outputs": [
    {
     "name": "stdout",
     "output_type": "stream",
     "text": [
      "treatment_median: 27\n",
      "control_median: 28\n"
     ]
    }
   ],
   "source": [
    "# Find the median survival time for both groups\n",
    "def find_median_time(times, probabilities):\n",
    "    for i, prob in enumerate(probabilities):\n",
    "        if prob < 0.5:\n",
    "            return times[i-1]\n",
    "    return None\n",
    "\n",
    "treatment_median = find_median_time(treatment_times, treatment_probs)\n",
    "control_median = find_median_time(control_times, control_probs)\n",
    "\n",
    "print('treatment_median:', treatment_median)\n",
    "print('control_median:', control_median)"
   ]
  },
  {
   "cell_type": "markdown",
   "metadata": {},
   "source": [
    "## Task 4"
   ]
  },
  {
   "cell_type": "code",
   "execution_count": 10,
   "metadata": {},
   "outputs": [
    {
     "data": {
      "image/png": "[encoded data removed]",
      "text/plain": [
       "<Figure size 1000x600 with 1 Axes>"
      ]
     },
     "metadata": {},
     "output_type": "display_data"
    }
   ],
   "source": [
    "# Convert data to structured array format\n",
    "def prepare_data(time_list, event_list):\n",
    "    data = np.zeros(len(time_list), dtype=[('time', np.float64), ('event', np.bool_)])\n",
    "    data['time'] = time_list\n",
    "    data['event'] = event_list\n",
    "    return data\n",
    "\n",
    "treatment_data = prepare_data(treatment_list, treatment_event)\n",
    "control_data = prepare_data(control_list, control_event)\n",
    "\n",
    "# Compute the Kaplan-Meier estimator for both groups\n",
    "time_treatment, survival_prob_treatment = kaplan_meier_estimator(treatment_data[\"event\"], treatment_data[\"time\"])\n",
    "time_control, survival_prob_control = kaplan_meier_estimator(control_data[\"event\"], control_data[\"time\"])\n",
    "\n",
    "# Plotting\n",
    "plt.figure(figsize=(10, 6))\n",
    "plt.step(time_treatment, survival_prob_treatment, where=\"post\", label=\"Treatment\")\n",
    "plt.step(time_control, survival_prob_control, where=\"post\", label=\"Control\")\n",
    "plt.xlabel(\"Time\")\n",
    "plt.ylabel(\"Survival Probability\")\n",
    "plt.title(\"Kaplan-Meier Survival Curves using scikit-survival\")\n",
    "plt.legend()\n",
    "plt.grid(True, linestyle='--', alpha=0.6)\n",
    "plt.ylim(0, 1.05)\n",
    "plt.show()\n"
   ]
  },
  {
   "cell_type": "code",
   "execution_count": 11,
   "metadata": {},
   "outputs": [
    {
     "name": "stdout",
     "output_type": "stream",
     "text": [
      "median_time_treatment: 32.0\n",
      "median_time_control: 30.0\n"
     ]
    }
   ],
   "source": [
    "# find the median survival time for both groups using the scikit-survival data\n",
    "\n",
    "# Compute median survival times\n",
    "def compute_median_survival_time(time, survival_prob):\n",
    "    median_time = None\n",
    "    for t, prob in zip(time, survival_prob):\n",
    "        if prob <= 0.5:\n",
    "            median_time = t\n",
    "            break\n",
    "    return median_time\n",
    "\n",
    "median_time_treatment = compute_median_survival_time(time_treatment, survival_prob_treatment)\n",
    "median_time_control = compute_median_survival_time(time_control, survival_prob_control)\n",
    "\n",
    "print('median_time_treatment:', median_time_treatment)\n",
    "print('median_time_control:', median_time_control)"
   ]
  },
  {
   "cell_type": "markdown",
   "metadata": {},
   "source": [
    "The median is different from what i found, this has to do with me not merging the rows in the table. So it registers 27 and 28, even though they should not be there as these only contain censored events."
   ]
  }
 ],
 "metadata": {
  "kernelspec": {
   "display_name": "dat350",
   "language": "python",
   "name": "python3"
  },
  "language_info": {
   "codemirror_mode": {
    "name": "ipython",
    "version": 3
   },
   "file_extension": ".py",
   "mimetype": "text/x-python",
   "name": "python",
   "nbconvert_exporter": "python",
   "pygments_lexer": "ipython3",
   "version": "3.11.5"
  },
  "orig_nbformat": 4
 },
 "nbformat": 4,
 "nbformat_minor": 2
}
