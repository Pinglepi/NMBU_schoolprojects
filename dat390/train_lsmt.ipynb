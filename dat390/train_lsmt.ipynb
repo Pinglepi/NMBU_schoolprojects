{
 "cells": [
  {
   "cell_type": "code",
   "execution_count": 26,
   "metadata": {},
   "outputs": [],
   "source": [
    "import pandas as pd\n",
    "from keras.preprocessing.text import Tokenizer\n",
    "from keras.preprocessing.sequence import pad_sequences\n",
    "from sklearn.model_selection import train_test_split\n",
    "from imblearn.under_sampling import RandomUnderSampler\n",
    "import numpy as np\n",
    "\n",
    "# set random seed for reproducibility\n",
    "np.random.seed(1337)\n",
    "# Load your data\n",
    "# Replace 'your_data_file.csv' with your actual data file\n",
    "data = pd.read_csv('combined.csv')\n",
    "# drop rows where length of sequence is less than 90\n",
    "data = data[data['len'] >= 90]\n",
    "\n",
    "# Tokenize the sequences at the character level\n",
    "tokenizer = Tokenizer(char_level=True)\n",
    "tokenizer.fit_on_texts(data['sequence'])\n",
    "sequences_numeric = tokenizer.texts_to_sequences(data['sequence'])\n",
    "\n",
    "# Pad sequences to a maximum length of 200\n",
    "max_length = 300\n",
    "sequences_padded = pad_sequences(sequences_numeric, maxlen=max_length, padding='post', truncating='post')\n",
    "\n",
    "# One-hot encode the sequences\n",
    "n_classes = len(tokenizer.word_index) + 1  # +1 because index 0 is not used\n",
    "one_hot_sequences = np.zeros((len(sequences_padded), max_length, n_classes))\n",
    "for i, seq in enumerate(sequences_padded):\n",
    "    for j, amino_acid_index in enumerate(seq):\n",
    "        if amino_acid_index != 0:\n",
    "            one_hot_sequences[i, j, amino_acid_index] = 1\n",
    "\n",
    "# Balancing the dataset\n",
    "rus = RandomUnderSampler(random_state=42)\n",
    "X_res, y_res = rus.fit_resample(one_hot_sequences.reshape(len(one_hot_sequences), -1), data['hmmer'])\n",
    "X_res = X_res.reshape(-1, max_length, n_classes)\n",
    "\n",
    "# Splitting the dataset\n",
    "X_train, X_test, y_train, y_test = train_test_split(X_res, y_res, test_size=0.2, random_state=42)\n"
   ]
  },
  {
   "cell_type": "code",
   "execution_count": 27,
   "metadata": {},
   "outputs": [
    {
     "name": "stdout",
     "output_type": "stream",
     "text": [
      "Model: \"sequential_3\"\n",
      "_________________________________________________________________\n",
      " Layer (type)                Output Shape              Param #   \n",
      "=================================================================\n",
      " lstm_3 (LSTM)               (None, 100)               48800     \n",
      "                                                                 \n",
      " dropout_2 (Dropout)         (None, 100)               0         \n",
      "                                                                 \n",
      " dense_3 (Dense)             (None, 1)                 101       \n",
      "                                                                 \n",
      "=================================================================\n",
      "Total params: 48901 (191.02 KB)\n",
      "Trainable params: 48901 (191.02 KB)\n",
      "Non-trainable params: 0 (0.00 Byte)\n",
      "_________________________________________________________________\n"
     ]
    }
   ],
   "source": [
    "from keras.models import Sequential\n",
    "from keras.layers import LSTM, Dense, Dropout\n",
    "\n",
    "# Model configuration\n",
    "n_units = 100  # Number of units in the LSTM layer\n",
    "\n",
    "# Build the model\n",
    "model = Sequential()\n",
    "model.add(LSTM(n_units, input_shape=(max_length, n_classes), return_sequences=False))\n",
    "model.add(Dropout(0.2))\n",
    "model.add(Dense(1, activation='sigmoid'))\n",
    "\n",
    "model.summary()\n"
   ]
  },
  {
   "cell_type": "code",
   "execution_count": 29,
   "metadata": {},
   "outputs": [
    {
     "name": "stdout",
     "output_type": "stream",
     "text": [
      "Epoch 1/20\n",
      "75/75 [==============================] - 10s 106ms/step - loss: 0.5113 - accuracy: 0.7510 - val_loss: 0.4959 - val_accuracy: 0.7717\n",
      "Epoch 2/20\n",
      "75/75 [==============================] - 7s 98ms/step - loss: 0.5115 - accuracy: 0.7723 - val_loss: 0.5083 - val_accuracy: 0.7717\n",
      "Epoch 3/20\n",
      "75/75 [==============================] - 7s 96ms/step - loss: 0.5014 - accuracy: 0.7634 - val_loss: 0.4885 - val_accuracy: 0.7751\n",
      "Epoch 4/20\n",
      "75/75 [==============================] - 7s 96ms/step - loss: 0.5298 - accuracy: 0.7506 - val_loss: 0.6263 - val_accuracy: 0.7043\n",
      "Epoch 5/20\n",
      "75/75 [==============================] - 7s 96ms/step - loss: 0.5848 - accuracy: 0.6823 - val_loss: 0.5547 - val_accuracy: 0.7094\n",
      "Epoch 6/20\n",
      "75/75 [==============================] - 7s 98ms/step - loss: 0.5531 - accuracy: 0.7135 - val_loss: 0.5452 - val_accuracy: 0.7152\n",
      "Epoch 7/20\n",
      "75/75 [==============================] - 7s 98ms/step - loss: 0.5502 - accuracy: 0.7091 - val_loss: 0.5545 - val_accuracy: 0.7094\n",
      "Epoch 8/20\n",
      "75/75 [==============================] - 7s 99ms/step - loss: 0.5465 - accuracy: 0.7074 - val_loss: 0.5579 - val_accuracy: 0.7127\n",
      "Epoch 9/20\n",
      "75/75 [==============================] - 7s 97ms/step - loss: 0.5257 - accuracy: 0.7360 - val_loss: 0.4985 - val_accuracy: 0.7759\n",
      "Epoch 10/20\n",
      "75/75 [==============================] - 7s 96ms/step - loss: 0.4928 - accuracy: 0.7729 - val_loss: 0.4963 - val_accuracy: 0.7658\n",
      "Epoch 11/20\n",
      "75/75 [==============================] - 7s 96ms/step - loss: 0.4800 - accuracy: 0.7769 - val_loss: 0.4926 - val_accuracy: 0.7801\n",
      "Epoch 12/20\n",
      "75/75 [==============================] - 7s 97ms/step - loss: 0.4576 - accuracy: 0.7944 - val_loss: 0.5081 - val_accuracy: 0.7313\n",
      "Epoch 13/20\n",
      "75/75 [==============================] - 7s 97ms/step - loss: 0.6002 - accuracy: 0.7207 - val_loss: 0.5340 - val_accuracy: 0.7237\n",
      "Epoch 14/20\n",
      "75/75 [==============================] - 7s 98ms/step - loss: 0.5024 - accuracy: 0.7613 - val_loss: 0.4695 - val_accuracy: 0.7928\n",
      "Epoch 15/20\n",
      "75/75 [==============================] - 7s 98ms/step - loss: 0.5431 - accuracy: 0.7205 - val_loss: 0.6706 - val_accuracy: 0.6925\n",
      "Epoch 16/20\n",
      "75/75 [==============================] - 7s 98ms/step - loss: 0.6623 - accuracy: 0.6012 - val_loss: 0.7017 - val_accuracy: 0.4912\n",
      "Epoch 17/20\n",
      "75/75 [==============================] - 7s 98ms/step - loss: 0.6055 - accuracy: 0.6549 - val_loss: 0.5524 - val_accuracy: 0.7110\n",
      "Epoch 18/20\n",
      "75/75 [==============================] - 7s 98ms/step - loss: 0.5731 - accuracy: 0.6943 - val_loss: 0.5560 - val_accuracy: 0.7051\n",
      "Epoch 19/20\n",
      "75/75 [==============================] - 7s 97ms/step - loss: 0.5544 - accuracy: 0.7118 - val_loss: 0.5481 - val_accuracy: 0.7220\n",
      "Epoch 20/20\n",
      "75/75 [==============================] - 7s 97ms/step - loss: 0.5558 - accuracy: 0.7171 - val_loss: 0.5468 - val_accuracy: 0.7102\n"
     ]
    },
    {
     "data": {
      "text/plain": [
       "<keras.src.callbacks.History at 0x14e13fe1f50>"
      ]
     },
     "execution_count": 29,
     "metadata": {},
     "output_type": "execute_result"
    }
   ],
   "source": [
    "model.compile(optimizer='adam', loss='binary_crossentropy', metrics=['accuracy'])\n",
    "\n",
    "# Train the model\n",
    "model.fit(X_train, y_train, validation_data=(X_test, y_test), epochs= 50, batch_size=64)\n"
   ]
  }
 ],
 "metadata": {
  "kernelspec": {
   "display_name": "master_env",
   "language": "python",
   "name": "python3"
  },
  "language_info": {
   "codemirror_mode": {
    "name": "ipython",
    "version": 3
   },
   "file_extension": ".py",
   "mimetype": "text/x-python",
   "name": "python",
   "nbconvert_exporter": "python",
   "pygments_lexer": "ipython3",
   "version": "3.11.5"
  }
 },
 "nbformat": 4,
 "nbformat_minor": 2
}
